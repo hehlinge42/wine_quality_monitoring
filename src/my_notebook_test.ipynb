{
 "cells": [
  {
   "cell_type": "code",
   "execution_count": 1,
   "metadata": {
    "ExecuteTime": {
     "end_time": "2021-10-14T09:29:19.503462Z",
     "start_time": "2021-10-14T09:29:19.289944Z"
    }
   },
   "outputs": [],
   "source": [
    "%load_ext autoreload\n",
    "%autoreload 2"
   ]
  },
  {
   "cell_type": "code",
   "execution_count": 2,
   "metadata": {
    "ExecuteTime": {
     "end_time": "2021-10-14T09:30:42.920017Z",
     "start_time": "2021-10-14T09:30:38.671873Z"
    }
   },
   "outputs": [],
   "source": [
    "import sys\n",
    "sys.path.insert(0,\"loading/\")\n",
    "sys.path.insert(0,\"preprocessing/\")\n",
    "sys.path.insert(0,\"modeling/\")\n",
    "sys.path.insert(0,\"evaluation/\")\n",
    "sys.path.insert(0,\"interpretability/\")\n",
    "sys.path.insert(0,\"monitoring/\")\n",
    "sys.path.insert(0,\"utils/\")\n",
    "\n",
    "\n",
    "import loading\n",
    "import preprocessing\n",
    "import modeling\n",
    "import evaluation\n",
    "import interpretability\n",
    "import monitoring \n",
    "import utils as u\n",
    "\n",
    "import json \n",
    "import pandas as pd\n",
    "import numpy as np\n",
    "import matplotlib.pyplot as plt\n",
    "\n",
    "#Package allowing to reload a package (or a script), without having to reload the whole notebook\n",
    "#import importlib #no use if the magic commands in the first cell are working"
   ]
  },
  {
   "cell_type": "code",
   "execution_count": 3,
   "metadata": {
    "ExecuteTime": {
     "end_time": "2021-10-14T09:30:42.950997Z",
     "start_time": "2021-10-14T09:30:42.922077Z"
    }
   },
   "outputs": [],
   "source": [
    "# Here we find the parameters needed for the run. You have to launch this cell only if you do not launch the main script.\n",
    "\n",
    "path_conf =\"../params/conf/conf.json\"\n",
    "\n",
    "# path_conf ='../conf/conf.json'\n",
    "conf = json.load(open(path_conf, 'r'))\n",
    "\n",
    "path_log = conf['path_log'] # \"../log/my_log_file.txt\"\n",
    "log_level = conf['log_level'] # \"DEBUG\"\n",
    "\n",
    "# Be careful to launch the logger only once, otherwise each lines will be duplicated\n",
    "logger = u.my_get_logger(path_log, log_level, my_name=\"main_logger\")"
   ]
  },
  {
   "cell_type": "code",
   "execution_count": 4,
   "metadata": {
    "ExecuteTime": {
     "end_time": "2021-10-14T09:30:42.996838Z",
     "start_time": "2021-10-14T09:30:42.970907Z"
    }
   },
   "outputs": [],
   "source": [
    "#Reload of the conf file (useful when you do modifications)\n",
    "conf = json.load(open(path_conf, 'r'))"
   ]
  },
  {
   "cell_type": "markdown",
   "metadata": {},
   "source": [
    "## Loading and Preprocessing"
   ]
  },
  {
   "cell_type": "code",
   "execution_count": 5,
   "metadata": {
    "ExecuteTime": {
     "end_time": "2021-10-14T09:30:43.123488Z",
     "start_time": "2021-10-14T09:30:43.010798Z"
    }
   },
   "outputs": [],
   "source": [
    "#Reading of the dataset selected in the conf file\n",
    "df = loading.read_csv_from_name(conf)"
   ]
  },
  {
   "cell_type": "code",
   "execution_count": 6,
   "metadata": {
    "ExecuteTime": {
     "end_time": "2021-10-14T09:30:44.393417Z",
     "start_time": "2021-10-14T09:30:43.131465Z"
    },
    "scrolled": false
   },
   "outputs": [
    {
     "data": {
      "text/plain": [
       "'OK'"
      ]
     },
     "execution_count": 6,
     "metadata": {},
     "output_type": "execute_result"
    }
   ],
   "source": [
    "#Preprocessing of the selected dataset\n",
    "df_preprocessed, X_columns, y_column = preprocessing.main_preprocessing_from_name(df, conf)\n",
    "\n",
    "#Writting of the preprocessed dataset\n",
    "loading.write_preprocessed_csv_from_name(df_preprocessed,conf)"
   ]
  },
  {
   "cell_type": "markdown",
   "metadata": {
    "ExecuteTime": {
     "end_time": "2021-10-13T11:50:42.700767Z",
     "start_time": "2021-10-13T11:50:42.373556Z"
    }
   },
   "source": [
    "#### OTHER ? UNDER - OVER SAMPLING"
   ]
  },
  {
   "cell_type": "code",
   "execution_count": 7,
   "metadata": {
    "ExecuteTime": {
     "end_time": "2021-10-14T09:30:44.471081Z",
     "start_time": "2021-10-14T09:30:44.406383Z"
    }
   },
   "outputs": [],
   "source": [
    "#Basic Splitting between train and test\n",
    "df_train = df_preprocessed.loc[0:499, :]\n",
    "X_train, X_test, y_train, y_test = preprocessing.basic_split(df_train , 0.20 , X_columns, y_column)"
   ]
  },
  {
   "cell_type": "code",
   "execution_count": 8,
   "metadata": {},
   "outputs": [
    {
     "data": {
      "text/html": [
       "<div>\n",
       "<style scoped>\n",
       "    .dataframe tbody tr th:only-of-type {\n",
       "        vertical-align: middle;\n",
       "    }\n",
       "\n",
       "    .dataframe tbody tr th {\n",
       "        vertical-align: top;\n",
       "    }\n",
       "\n",
       "    .dataframe thead th {\n",
       "        text-align: right;\n",
       "    }\n",
       "</style>\n",
       "<table border=\"1\" class=\"dataframe\">\n",
       "  <thead>\n",
       "    <tr style=\"text-align: right;\">\n",
       "      <th></th>\n",
       "      <th>alcohol</th>\n",
       "      <th>chlorides</th>\n",
       "      <th>citric acid</th>\n",
       "      <th>density</th>\n",
       "      <th>fixed acidity</th>\n",
       "      <th>free sulfur dioxide</th>\n",
       "      <th>pH</th>\n",
       "      <th>residual sugar</th>\n",
       "      <th>sulphates</th>\n",
       "      <th>total sulfur dioxide</th>\n",
       "      <th>volatile acidity</th>\n",
       "    </tr>\n",
       "    <tr>\n",
       "      <th>Time</th>\n",
       "      <th></th>\n",
       "      <th></th>\n",
       "      <th></th>\n",
       "      <th></th>\n",
       "      <th></th>\n",
       "      <th></th>\n",
       "      <th></th>\n",
       "      <th></th>\n",
       "      <th></th>\n",
       "      <th></th>\n",
       "      <th></th>\n",
       "    </tr>\n",
       "  </thead>\n",
       "  <tbody>\n",
       "    <tr>\n",
       "      <th>249</th>\n",
       "      <td>9.9</td>\n",
       "      <td>0.084</td>\n",
       "      <td>0.00</td>\n",
       "      <td>0.99830</td>\n",
       "      <td>7.3</td>\n",
       "      <td>6.0</td>\n",
       "      <td>3.61</td>\n",
       "      <td>2.0</td>\n",
       "      <td>0.96</td>\n",
       "      <td>23.0</td>\n",
       "      <td>0.660</td>\n",
       "    </tr>\n",
       "    <tr>\n",
       "      <th>433</th>\n",
       "      <td>9.5</td>\n",
       "      <td>0.091</td>\n",
       "      <td>0.63</td>\n",
       "      <td>1.00040</td>\n",
       "      <td>12.3</td>\n",
       "      <td>6.0</td>\n",
       "      <td>3.16</td>\n",
       "      <td>2.3</td>\n",
       "      <td>0.49</td>\n",
       "      <td>18.0</td>\n",
       "      <td>0.390</td>\n",
       "    </tr>\n",
       "    <tr>\n",
       "      <th>19</th>\n",
       "      <td>9.2</td>\n",
       "      <td>0.341</td>\n",
       "      <td>0.51</td>\n",
       "      <td>0.99690</td>\n",
       "      <td>7.9</td>\n",
       "      <td>17.0</td>\n",
       "      <td>3.04</td>\n",
       "      <td>1.8</td>\n",
       "      <td>1.08</td>\n",
       "      <td>56.0</td>\n",
       "      <td>0.320</td>\n",
       "    </tr>\n",
       "    <tr>\n",
       "      <th>322</th>\n",
       "      <td>9.3</td>\n",
       "      <td>0.079</td>\n",
       "      <td>0.05</td>\n",
       "      <td>0.99735</td>\n",
       "      <td>7.8</td>\n",
       "      <td>6.0</td>\n",
       "      <td>3.29</td>\n",
       "      <td>2.3</td>\n",
       "      <td>0.63</td>\n",
       "      <td>18.0</td>\n",
       "      <td>0.620</td>\n",
       "    </tr>\n",
       "    <tr>\n",
       "      <th>332</th>\n",
       "      <td>9.4</td>\n",
       "      <td>0.066</td>\n",
       "      <td>0.28</td>\n",
       "      <td>0.99730</td>\n",
       "      <td>8.0</td>\n",
       "      <td>21.0</td>\n",
       "      <td>3.22</td>\n",
       "      <td>3.2</td>\n",
       "      <td>0.54</td>\n",
       "      <td>114.0</td>\n",
       "      <td>0.580</td>\n",
       "    </tr>\n",
       "    <tr>\n",
       "      <th>...</th>\n",
       "      <td>...</td>\n",
       "      <td>...</td>\n",
       "      <td>...</td>\n",
       "      <td>...</td>\n",
       "      <td>...</td>\n",
       "      <td>...</td>\n",
       "      <td>...</td>\n",
       "      <td>...</td>\n",
       "      <td>...</td>\n",
       "      <td>...</td>\n",
       "      <td>...</td>\n",
       "    </tr>\n",
       "    <tr>\n",
       "      <th>106</th>\n",
       "      <td>9.3</td>\n",
       "      <td>0.467</td>\n",
       "      <td>0.68</td>\n",
       "      <td>0.99730</td>\n",
       "      <td>7.8</td>\n",
       "      <td>18.0</td>\n",
       "      <td>3.08</td>\n",
       "      <td>1.7</td>\n",
       "      <td>1.31</td>\n",
       "      <td>69.0</td>\n",
       "      <td>0.410</td>\n",
       "    </tr>\n",
       "    <tr>\n",
       "      <th>270</th>\n",
       "      <td>10.7</td>\n",
       "      <td>0.087</td>\n",
       "      <td>0.06</td>\n",
       "      <td>0.99650</td>\n",
       "      <td>7.9</td>\n",
       "      <td>27.0</td>\n",
       "      <td>3.36</td>\n",
       "      <td>4.0</td>\n",
       "      <td>0.67</td>\n",
       "      <td>61.0</td>\n",
       "      <td>0.545</td>\n",
       "    </tr>\n",
       "    <tr>\n",
       "      <th>348</th>\n",
       "      <td>10.0</td>\n",
       "      <td>0.089</td>\n",
       "      <td>0.31</td>\n",
       "      <td>0.99790</td>\n",
       "      <td>9.6</td>\n",
       "      <td>15.0</td>\n",
       "      <td>3.11</td>\n",
       "      <td>2.8</td>\n",
       "      <td>0.92</td>\n",
       "      <td>46.0</td>\n",
       "      <td>0.560</td>\n",
       "    </tr>\n",
       "    <tr>\n",
       "      <th>435</th>\n",
       "      <td>9.5</td>\n",
       "      <td>0.091</td>\n",
       "      <td>0.63</td>\n",
       "      <td>1.00040</td>\n",
       "      <td>12.3</td>\n",
       "      <td>6.0</td>\n",
       "      <td>3.16</td>\n",
       "      <td>2.3</td>\n",
       "      <td>0.49</td>\n",
       "      <td>18.0</td>\n",
       "      <td>0.390</td>\n",
       "    </tr>\n",
       "    <tr>\n",
       "      <th>102</th>\n",
       "      <td>9.0</td>\n",
       "      <td>0.080</td>\n",
       "      <td>0.18</td>\n",
       "      <td>0.99720</td>\n",
       "      <td>8.1</td>\n",
       "      <td>13.0</td>\n",
       "      <td>3.30</td>\n",
       "      <td>1.9</td>\n",
       "      <td>0.59</td>\n",
       "      <td>35.0</td>\n",
       "      <td>0.545</td>\n",
       "    </tr>\n",
       "  </tbody>\n",
       "</table>\n",
       "<p>400 rows × 11 columns</p>\n",
       "</div>"
      ],
      "text/plain": [
       "      alcohol  chlorides  citric acid  density  fixed acidity  \\\n",
       "Time                                                            \n",
       "249       9.9      0.084         0.00  0.99830            7.3   \n",
       "433       9.5      0.091         0.63  1.00040           12.3   \n",
       "19        9.2      0.341         0.51  0.99690            7.9   \n",
       "322       9.3      0.079         0.05  0.99735            7.8   \n",
       "332       9.4      0.066         0.28  0.99730            8.0   \n",
       "...       ...        ...          ...      ...            ...   \n",
       "106       9.3      0.467         0.68  0.99730            7.8   \n",
       "270      10.7      0.087         0.06  0.99650            7.9   \n",
       "348      10.0      0.089         0.31  0.99790            9.6   \n",
       "435       9.5      0.091         0.63  1.00040           12.3   \n",
       "102       9.0      0.080         0.18  0.99720            8.1   \n",
       "\n",
       "      free sulfur dioxide    pH  residual sugar  sulphates  \\\n",
       "Time                                                         \n",
       "249                   6.0  3.61             2.0       0.96   \n",
       "433                   6.0  3.16             2.3       0.49   \n",
       "19                   17.0  3.04             1.8       1.08   \n",
       "322                   6.0  3.29             2.3       0.63   \n",
       "332                  21.0  3.22             3.2       0.54   \n",
       "...                   ...   ...             ...        ...   \n",
       "106                  18.0  3.08             1.7       1.31   \n",
       "270                  27.0  3.36             4.0       0.67   \n",
       "348                  15.0  3.11             2.8       0.92   \n",
       "435                   6.0  3.16             2.3       0.49   \n",
       "102                  13.0  3.30             1.9       0.59   \n",
       "\n",
       "      total sulfur dioxide  volatile acidity  \n",
       "Time                                          \n",
       "249                   23.0             0.660  \n",
       "433                   18.0             0.390  \n",
       "19                    56.0             0.320  \n",
       "322                   18.0             0.620  \n",
       "332                  114.0             0.580  \n",
       "...                    ...               ...  \n",
       "106                   69.0             0.410  \n",
       "270                   61.0             0.545  \n",
       "348                   46.0             0.560  \n",
       "435                   18.0             0.390  \n",
       "102                   35.0             0.545  \n",
       "\n",
       "[400 rows x 11 columns]"
      ]
     },
     "execution_count": 8,
     "metadata": {},
     "output_type": "execute_result"
    }
   ],
   "source": [
    "X_train"
   ]
  },
  {
   "cell_type": "markdown",
   "metadata": {},
   "source": [
    "## Modeling"
   ]
  },
  {
   "cell_type": "code",
   "execution_count": 9,
   "metadata": {
    "ExecuteTime": {
     "end_time": "2021-10-14T09:31:00.962654Z",
     "start_time": "2021-10-14T09:30:44.483053Z"
    }
   },
   "outputs": [
    {
     "name": "stdout",
     "output_type": "stream",
     "text": [
      "Fitting 3 folds for each of 4 candidates, totalling 12 fits\n"
     ]
    },
    {
     "name": "stderr",
     "output_type": "stream",
     "text": [
      "[Parallel(n_jobs=-1)]: Using backend LokyBackend with 4 concurrent workers.\n",
      "[Parallel(n_jobs=-1)]: Done  12 out of  12 | elapsed:    7.9s finished\n",
      "[I 211018 09:23:37 utils:58] Modele sauvergarde: ../data/models/wine_random_forest_0.sav\n"
     ]
    },
    {
     "data": {
      "text/plain": [
       "'OK'"
      ]
     },
     "execution_count": 9,
     "metadata": {},
     "output_type": "execute_result"
    }
   ],
   "source": [
    "#Modelisation using the model selected in the conf file\n",
    "clf, best_params = modeling.main_modeling_from_name(X_train,y_train,conf)\n",
    "\n",
    "#Saving the model\n",
    "u.save_model(clf, conf, version=\"_0\")"
   ]
  },
  {
   "cell_type": "markdown",
   "metadata": {},
   "source": [
    "## Evaluation"
   ]
  },
  {
   "cell_type": "code",
   "execution_count": null,
   "metadata": {
    "ExecuteTime": {
     "end_time": "2021-10-14T09:24:53.588266Z",
     "start_time": "2021-10-14T09:24:53.439302Z"
    }
   },
   "outputs": [],
   "source": [
    "#Independent step from the other, we reload what we need:\n",
    "\n",
    "#Loading of the model\n",
    "clf = u.load_model(conf)\n",
    "#Loading of the preprocessed dataset\n",
    "df = loading.load_preprocessed_csv_from_name(conf)\n",
    "\n",
    "#Basic Splitting:\n",
    "y_column = u.get_y_column_from_conf(conf)\n",
    "X_columns = [x for x in df.columns if x != y_column ]\n",
    "X_train, X_test, y_train, y_test = preprocessing.basic_split( df , 0.25 , X_columns, y_column)"
   ]
  },
  {
   "cell_type": "code",
   "execution_count": null,
   "metadata": {
    "ExecuteTime": {
     "end_time": "2021-10-14T09:24:54.058645Z",
     "start_time": "2021-10-14T09:24:53.599234Z"
    }
   },
   "outputs": [],
   "source": [
    "#Computing metrics\n",
    "dict_metrics = evaluation.main_evaluation(clf, X_test, y_test, conf)\n",
    "dict_metrics"
   ]
  },
  {
   "cell_type": "markdown",
   "metadata": {},
   "source": [
    "## Interpretabily "
   ]
  },
  {
   "cell_type": "code",
   "execution_count": null,
   "metadata": {
    "ExecuteTime": {
     "end_time": "2021-10-12T15:54:11.594730Z",
     "start_time": "2021-10-12T15:54:11.215912Z"
    }
   },
   "outputs": [],
   "source": []
  },
  {
   "cell_type": "markdown",
   "metadata": {},
   "source": [
    "## Monitoring"
   ]
  },
  {
   "cell_type": "code",
   "execution_count": null,
   "metadata": {},
   "outputs": [],
   "source": [
    "# Loading what you need ... etc."
   ]
  },
  {
   "cell_type": "code",
   "execution_count": null,
   "metadata": {},
   "outputs": [],
   "source": []
  }
 ],
 "metadata": {
  "kernelspec": {
   "display_name": "Python 3",
   "language": "python",
   "name": "python3"
  },
  "language_info": {
   "codemirror_mode": {
    "name": "ipython",
    "version": 3
   },
   "file_extension": ".py",
   "mimetype": "text/x-python",
   "name": "python",
   "nbconvert_exporter": "python",
   "pygments_lexer": "ipython3",
   "version": "3.8.5"
  },
  "varInspector": {
   "cols": {
    "lenName": 16,
    "lenType": 16,
    "lenVar": 40
   },
   "kernels_config": {
    "python": {
     "delete_cmd_postfix": "",
     "delete_cmd_prefix": "del ",
     "library": "var_list.py",
     "varRefreshCmd": "print(var_dic_list())"
    },
    "r": {
     "delete_cmd_postfix": ") ",
     "delete_cmd_prefix": "rm(",
     "library": "var_list.r",
     "varRefreshCmd": "cat(var_dic_list()) "
    }
   },
   "types_to_exclude": [
    "module",
    "function",
    "builtin_function_or_method",
    "instance",
    "_Feature"
   ],
   "window_display": false
  }
 },
 "nbformat": 4,
 "nbformat_minor": 4
}
